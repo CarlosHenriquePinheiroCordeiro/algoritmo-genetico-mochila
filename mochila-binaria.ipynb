{
 "cells": [
  {
   "cell_type": "code",
   "execution_count": 70,
   "metadata": {},
   "outputs": [
    {
     "name": "stdout",
     "output_type": "stream",
     "text": [
      "[1, 0, 0, 1, 0, 0, 1, 0]\n",
      "[0, 0, 0, 0, 0, 1, 0, 1]\n",
      "[0, 0, 1, 0, 0, 1, 0, 0]\n",
      "[1, 1, 0, 1, 1, 0, 1, 1]\n",
      "[0, 0, 0, 1, 0, 0, 0, 1]\n",
      "[1, 0, 0, 0, 0, 1, 0, 1]\n",
      "[1, 0, 0, 1, 1, 1, 1, 0]\n",
      "[1, 1, 0, 0, 0, 1, 0, 1]\n",
      "[0, 0, 1, 1, 1, 1, 1, 1]\n",
      "[1, 1, 1, 1, 1, 0, 1, 1]\n"
     ]
    }
   ],
   "source": [
    "#FITNESS            =  HEURÍSTICA DA MELHOR SOLUÇÃO\n",
    "#MUTAÇÃO            = 1%\n",
    "#POPULAÇÃO INICIAL  = 10\n",
    "\n",
    "import random\n",
    "\n",
    "geracoes             = 10                           #Serão realizadas 10 gerações\n",
    "tamanho_cromossomo   = 8                            #Mochila com 8 capacidade para 8 objetos\n",
    "tamanho_populacao    = 10                           #População inicial de 10 indivíduos\n",
    "pesos_objetos        = [10, 4, 6, 11, 3, 7, 9, 8]   #Ou seja, no índice 0 do cromossomo é colocado um objeto de 10kg, no índice 5 é um objeto de 7kg\n",
    "carga_maxima_mochila = 30                           #A mochila suporta uma carga máxima de 30kg\n",
    "\n",
    "#Retorna a população inicial\n",
    "def populacao_inicial():\n",
    "    populacao = []\n",
    "    for i in range(tamanho_populacao):\n",
    "        individuo = []\n",
    "        for l in range(tamanho_cromossomo):\n",
    "            if (random.random() * 100 < 50):\n",
    "                individuo.append(0)\n",
    "            else:\n",
    "                individuo.append(1)\n",
    "        populacao.append(individuo)\n",
    "    return populacao\n",
    "\n",
    "#Função de mutação com taxa de 1%\n",
    "def mutacao(cromossomo):\n",
    "    if random.random() * 100 < 1:\n",
    "        print('MUTAÇÃO')\n",
    "\n",
    "populacao = populacao_inicial()\n",
    "for i in range(geracoes):\n",
    "    print(populacao[i])"
   ]
  }
 ],
 "metadata": {
  "kernelspec": {
   "display_name": "Python 3.9.7 ('base')",
   "language": "python",
   "name": "python3"
  },
  "language_info": {
   "codemirror_mode": {
    "name": "ipython",
    "version": 3
   },
   "file_extension": ".py",
   "mimetype": "text/x-python",
   "name": "python",
   "nbconvert_exporter": "python",
   "pygments_lexer": "ipython3",
   "version": "3.9.7"
  },
  "orig_nbformat": 4,
  "vscode": {
   "interpreter": {
    "hash": "ad2bdc8ecc057115af97d19610ffacc2b4e99fae6737bb82f5d7fb13d2f2c186"
   }
  }
 },
 "nbformat": 4,
 "nbformat_minor": 2
}
